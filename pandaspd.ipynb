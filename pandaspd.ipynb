{
  "nbformat": 4,
  "nbformat_minor": 0,
  "metadata": {
    "colab": {
      "provenance": [],
      "toc_visible": true,
      "authorship_tag": "ABX9TyPhkd34JY2yTX74GZ/+nD2T",
      "include_colab_link": true
    },
    "kernelspec": {
      "name": "python3",
      "display_name": "Python 3"
    },
    "language_info": {
      "name": "python"
    }
  },
  "cells": [
    {
      "cell_type": "markdown",
      "metadata": {
        "id": "view-in-github",
        "colab_type": "text"
      },
      "source": [
        "<a href=\"https://colab.research.google.com/github/rutokevin/TechTitans/blob/kevin/pandaspd.ipynb\" target=\"_parent\"><img src=\"https://colab.research.google.com/assets/colab-badge.svg\" alt=\"Open In Colab\"/></a>"
      ]
    },
    {
      "cell_type": "code",
      "execution_count": 8,
      "metadata": {
        "colab": {
          "base_uri": "https://localhost:8080/"
        },
        "id": "jrVBn9IbiHGR",
        "outputId": "1f1eb59d-f3ea-410d-ec14-12f97110a656"
      },
      "outputs": [
        {
          "output_type": "stream",
          "name": "stdout",
          "text": [
            "   Apples  Bananas\n",
            "0      30       21\n",
            "            Apples  Bananas\n",
            "2017 Sales      35       21\n",
            "2018 Sales      41       34\n",
            "Flour     4 cups\n",
            "Milk       1 cup\n",
            "Eggs     2 large\n",
            "Spam       1 can\n",
            "Name: Dinner, dtype: object\n"
          ]
        }
      ],
      "source": [
        "import pandas as pd\n",
        "pd.set_option('display.max_rows', 5)\n",
        "#from learntools.core import binder; binder.bind(globals())\n",
        "#rom learntools.pandas.creating_reading_and_writing import *\n",
        "#print(\"Setup complete.\")\n",
        "fruits = pd.DataFrame([[30, 21]], columns=['Apples', 'Bananas'])\n",
        "print(fruits)\n",
        "\n",
        "fruit_sales = pd.DataFrame([[35, 21], [41, 34]], columns=['Apples', 'Bananas'],\n",
        "                index=['2017 Sales', '2018 Sales'])\n",
        "print(fruit_sales)\n",
        "\n",
        "quantities = ['4 cups', '1 cup', '2 large', '1 can']\n",
        "items = ['Flour', 'Milk', 'Eggs', 'Spam']\n",
        "recipe = pd.Series(quantities, index=items, name='Dinner')\n",
        "print(recipe)\n",
        "\n",
        "\n",
        "\n"
      ]
    }
  ]
}